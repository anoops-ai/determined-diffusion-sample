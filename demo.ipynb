{
 "cells": [
  {
   "cell_type": "code",
   "execution_count": null,
   "id": "7d1f3605-f94b-493e-be3b-fd582b83703a",
   "metadata": {},
   "outputs": [],
   "source": [
    "#Demo to show case stable diffusion using determined"
   ]
  },
  {
   "cell_type": "markdown",
   "id": "c2b25550-a078-4402-885b-7548e0da8ed5",
   "metadata": {},
   "source": [
    "## Before You Start: 🤗 Account, Access Token, and License\n",
    "\n",
    "In order to use this repository's implementation of Stable Diffusion, you must:\n",
    "\n",
    "* Have a [Huggingface account](https://huggingface.co/join).\n",
    "* Have a [Huggingface User Access Token](https://huggingface.co/docs/hub/security-tokens).\n",
    "* Accept the Stable Diffusion license (click on _Access\n",
    "  repository_  [in this link)](https://huggingface.co/CompVis/stable-diffusion-v1-4).\n"
   ]
  },
  {
   "cell_type": "markdown",
   "id": "2f7bc877-2c94-4b44-9414-2eac28c0332d",
   "metadata": {},
   "source": [
    "## Training Setup\n",
    "\n",
    "1. After including your user access token in the `const.yaml` config file by modifying the final part\n",
    "of the lines which read\n",
    "\n",
    "2. Update the resource pool name that has the gpu's you are assigned\n",
    "\n",
    "```yaml\n",
    "environment:\n",
    "  environment_variables:\n",
    "    - HF_AUTH_TOKEN=YOUR_HF_AUTH_TOKEN_HERE\n",
    "```"
   ]
  },
  {
   "cell_type": "markdown",
   "id": "2a7ff1f3-9ab4-4d71-a605-8f7aa8afa995",
   "metadata": {},
   "source": [
    "## Fine-tuning\n",
    "Fine-tuning experiment can be run by executing the following in the present directory\n",
    "\n",
    "The below command will submit an experiment which introduces a new embedding vector into the world of Stable\n",
    "Diffusion which we will train to correspond to the concept of the Determined AI logo, as represented\n",
    "through\n",
    "training images found in `/det_logos`\n"
   ]
  },
  {
   "cell_type": "code",
   "execution_count": null,
   "id": "d519ac82-fd8e-4edc-8792-0446120b840c",
   "metadata": {},
   "outputs": [],
   "source": [
    "!det experiment create const.yaml ."
   ]
  },
  {
   "cell_type": "markdown",
   "id": "185c14e4-bb89-4df1-8212-adc4c579d67c",
   "metadata": {},
   "source": [
    "By default, sample images are generated during training which can be viewed by launching a\n",
    "Tensorboard instance from the experiment in the WebUI."
   ]
  },
  {
   "cell_type": "markdown",
   "id": "fe4c4b52-ca73-4dad-849d-2f5376c1ca2f",
   "metadata": {},
   "source": [
    "## Prompt Inference"
   ]
  },
  {
   "cell_type": "code",
   "execution_count": null,
   "id": "2b2483d8-dd7e-4bf9-a1fd-53f322505393",
   "metadata": {},
   "outputs": [],
   "source": []
  },
  {
   "cell_type": "code",
   "execution_count": null,
   "id": "8bb60349-fff4-4e66-8ea3-97035fea4e4a",
   "metadata": {},
   "outputs": [],
   "source": []
  }
 ],
 "metadata": {
  "kernelspec": {
   "display_name": "Python 3.9.13 64-bit",
   "language": "python",
   "name": "python3"
  },
  "language_info": {
   "codemirror_mode": {
    "name": "ipython",
    "version": 3
   },
   "file_extension": ".py",
   "mimetype": "text/x-python",
   "name": "python",
   "nbconvert_exporter": "python",
   "pygments_lexer": "ipython3",
   "version": "3.9.13"
  },
  "vscode": {
   "interpreter": {
    "hash": "b0fa6594d8f4cbf19f97940f81e996739fb7646882a419484c72d19e05852a7e"
   }
  }
 },
 "nbformat": 4,
 "nbformat_minor": 5
}
